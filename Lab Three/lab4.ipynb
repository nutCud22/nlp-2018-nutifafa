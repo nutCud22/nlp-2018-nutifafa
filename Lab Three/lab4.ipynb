{
 "cells": [
  {
   "cell_type": "code",
   "execution_count": 421,
   "metadata": {},
   "outputs": [],
   "source": [
    "import pandas as pd\n",
    "import nltk\n",
    "import glob\n",
    "import os\n",
    "import numpy as np\n",
    "from nltk.corpus import stopwords\n",
    "from sklearn.feature_extraction.text import TfidfVectorizer\n",
    "from sklearn.model_selection import train_test_split\n",
    "from sklearn import naive_bayes\n",
    "from sklearn.linear_model import LogisticRegression\n",
    "from sklearn.metrics import roc_auc_score"
   ]
  },
  {
   "cell_type": "code",
   "execution_count": 422,
   "metadata": {},
   "outputs": [],
   "source": [
    "#reading all the files for training using pandas and concatenating data from all the training files\n",
    "all_files = [\"imdb_labelled.txt\",\"amazon_cells_labelled.txt\",\"yelp_labelled.txt\"]\n",
    "dataframe = pd.concat(pd.read_csv(file, sep='\\t', names = ['txt', 'label'],index_col=None, header=0) for file in all_files)"
   ]
  },
  {
   "cell_type": "code",
   "execution_count": 423,
   "metadata": {},
   "outputs": [],
   "source": [
    "def trainNormNB():\n",
    "    \n",
    "    # Using TFIDF, short for term frequency–inverse document frequency\n",
    "    # This transforms text to feature vectors\n",
    "    \n",
    "    # Creating a normalized version of Naive Bayes Classifier\n",
    "    # Normalisation of text is done here\n",
    "    stop_set = set(stopwords.words('english'))\n",
    "    norm_vectorizer = TfidfVectorizer(use_idf=True, lowercase=True, strip_accents='ascii', stop_words=stop_set)\n",
    "\n",
    "    y = dataframe.label    #setting dependent variables, the labels 0 for negative and 1 for positive sentiment\n",
    "    x = norm_vectorizer.fit_transform(dataframe.txt)    #transforming data in the dataframe to features from text\n",
    "\n",
    "    # Training testing split\n",
    "    # Using a random state to guarantee the same results whenever training is done\n",
    "    x_training, x_testing, y_training, y_testing = train_test_split(x, y, random_state=29, train_size = 0.95, test_size = 0.05)\n",
    "\n",
    "    # Training the normalized Naive Bayes Classifier\n",
    "    norm_nbClassifier = naive_bayes.MultinomialNB()\n",
    "    norm_nbClassifier.fit(x_training, y_training)\n",
    "    \n",
    "    return norm_nbClassifier, norm_vectorizer"
   ]
  },
  {
   "cell_type": "code",
   "execution_count": 424,
   "metadata": {},
   "outputs": [],
   "source": [
    "def trainUnNormNB():\n",
    "    # Using TFIDF, short for term frequency–inverse document frequency\n",
    "    # This transforms text to feature vectors\n",
    "\n",
    "    # Creating an unnormalized version of Naive Bayes Classifier\n",
    "    unNorm_vectorizer = TfidfVectorizer(use_idf=False, lowercase=False, strip_accents=None)\n",
    "\n",
    "    unNorm_y = dataframe.label    #setting dependent variables, the labels 0 for negative and 1 for positive sentiment\n",
    "    unNorm_x = unNorm_vectorizer.fit_transform(dataframe.txt)    #transforming data in the dataframe to features from text\n",
    "\n",
    "    # Training testing split\n",
    "    # Using a random state to guarantee the same results whenever training is done\n",
    "    unNorm_x_training, unNorm_x_testing, unNorm_y_training, unNorm_y_testing = train_test_split(unNorm_x, unNorm_y, random_state=29, train_size = 0.95, test_size = 0.05)\n",
    "\n",
    "    # Training the unnormalized Naive Bayes Classifier\n",
    "    unNorm_nbClassifier = naive_bayes.MultinomialNB()\n",
    "    unNorm_nbClassifier.fit(unNorm_x_training, unNorm_y_training)\n",
    "    \n",
    "    return unNorm_nbClassifier, unNorm_vectorizer\n"
   ]
  },
  {
   "cell_type": "code",
   "execution_count": 425,
   "metadata": {},
   "outputs": [],
   "source": [
    "def testNormNB(testfile):\n",
    "    df = pd.read_csv(testfile,sep='\\t', names = ['txt', 'label'],index_col=None, header=-1)\n",
    "    \n",
    "    norm_nbClassifier, norm_vectorizer = trainNormNB()\n",
    "    \n",
    "    y = list(df.label)    #setting dependent variables, the labels 0 for negative and 1 for positive sentiment\n",
    "    x = df.txt    #setting the independent variables of features from text\n",
    "    \n",
    "    predict_list = []\n",
    "    \n",
    "    for i in range(len(x)):\n",
    "        sentiment = np.array([str(x[i])])\n",
    "        sentiment_tranform = norm_vectorizer.transform(sentiment)\n",
    "        prediction = norm_nbClassifier.predict(sentiment_tranform)\n",
    "        \n",
    "        predict_list.append(prediction[0])\n",
    "    \n",
    "    precision, recall, accuracy, f1measure = contingencyTable(predict_list,y)\n",
    "    \n",
    "    print(\"system: \"+str(predict_list),\"\\t\",\"gold: \" + str(y))\n",
    "    print(precision, recall, accuracy, f1measure)\n",
    "        "
   ]
  },
  {
   "cell_type": "code",
   "execution_count": 426,
   "metadata": {},
   "outputs": [],
   "source": [
    "def testUnNormNB(testfile):\n",
    "    df = pd.read_csv(testfile,sep='\\t', names = ['txt', 'label'],index_col=None, header=-1)\n",
    "    \n",
    "    unNorm_nbClassifier, unNorm_vectorizer = trainUnNormNB()\n",
    "    \n",
    "    y = list(df.label)    #setting dependent variables, the labels 0 for negative and 1 for positive sentiment\n",
    "    x = df.txt    #setting the independent variables of features from text\n",
    "    \n",
    "    predict_list = []\n",
    "    \n",
    "    for i in range(len(x)):\n",
    "        sentiment = np.array([str(x[i])])\n",
    "        sentiment_tranform = unNorm_vectorizer.transform(sentiment)\n",
    "        prediction = unNorm_nbClassifier.predict(sentiment_tranform)\n",
    "        \n",
    "        predict_list.append(prediction[0])\n",
    "    \n",
    "    precision, recall, accuracy, f1measure = contingencyTable(predict_list,y)\n",
    "    \n",
    "    print(\"system: \"+str(predict_list),\"\\t\",\"gold: \" + str(y))\n",
    "    print(precision, recall, accuracy, f1measure)"
   ]
  },
  {
   "cell_type": "code",
   "execution_count": 427,
   "metadata": {},
   "outputs": [],
   "source": [
    "def contingencyTable(systemLabels, goldLabels):    # Building a 2 dimensional contingency table\n",
    "    \n",
    "    table = [[0, 0],[0, 0]]    # The first inner list represents the true and false positives [tp and fp]\n",
    "                                            # The seccond inner lists represents the false and true negatives [fn and tn]\n",
    "        \n",
    "    for i in range(len(systemLabels)):\n",
    "        if systemLabels[i] == 1 and goldLabels[i] == 1: #adding to true possitive\n",
    "            table[0][0] += 1\n",
    "        elif systemLabels[i] == 0 and goldLabels[i] == 0: #adding to true negative\n",
    "            table[1][1] += 1\n",
    "        elif systemLabels[i] == 1 and goldLabels[i] == 0: #adding to false positive\n",
    "            table[0][1] += 1\n",
    "        else:\n",
    "            table[1][0] += 1  #adding to false negative\n",
    "    \n",
    "    tp = table[0][0]\n",
    "    fp = table[0][1]\n",
    "    fn = table[1][0]\n",
    "    tn = table[1][1]\n",
    "    \n",
    "    precision = round(tp/(tp+fp),2)\n",
    "    recall = round(tp/(tp+fn),2)\n",
    "    accuracy = round((tp+tn)/(tp+fp+tn+fn),2)\n",
    "    f1measure = round((2*precision*recall)/(precision+recall),2)  #using a weight of 1 for the f-measure\n",
    "    \n",
    "    return precision, recall, accuracy, f1measure"
   ]
  },
  {
   "cell_type": "code",
   "execution_count": 428,
   "metadata": {},
   "outputs": [],
   "source": [
    "def trainNormLR():\n",
    "    \n",
    "    # Using TFIDF, short for term frequency–inverse document frequency\n",
    "    # This transforms text to feature vectors\n",
    "    \n",
    "    # Creating a normalized version of Logistical Regression Classifier\n",
    "    # Normalisation of text is done here\n",
    "    stop_set = set(stopwords.words('english'))\n",
    "    norm_vectorizer = TfidfVectorizer(use_idf=True, lowercase=True, strip_accents='ascii', stop_words=stop_set)\n",
    "\n",
    "    y = dataframe.label    #setting dependent variables, the labels 0 for negative and 1 for positive sentiment\n",
    "    x = norm_vectorizer.fit_transform(dataframe.txt)    #transforming data in the dataframe to features from text\n",
    "\n",
    "    # Training testing split\n",
    "    # Using a random state to guarantee the same results whenever training is done\n",
    "    x_training, x_testing, y_training, y_testing = train_test_split(x, y, random_state=29, train_size = 0.95, test_size = 0.05)\n",
    "\n",
    "    # Training the normalized Naive Bayes Classifier\n",
    "    norm_lrClassifier = LogisticRegression()\n",
    "    norm_lrClassifier.fit(x_training, y_training)\n",
    "    \n",
    "    return norm_lrClassifier, norm_vectorizer"
   ]
  },
  {
   "cell_type": "code",
   "execution_count": 429,
   "metadata": {},
   "outputs": [],
   "source": [
    "def trainUnNormLR():\n",
    "    # Using TFIDF, short for term frequency–inverse document frequency\n",
    "    # This transforms text to feature vectors\n",
    "\n",
    "    # Creating an unnormalized version of Naive Bayes Classifier\n",
    "    unNorm_vectorizer = TfidfVectorizer(use_idf=False, lowercase=False, strip_accents=None)\n",
    "\n",
    "    unNorm_y = dataframe.label    #setting dependent variables, the labels 0 for negative and 1 for positive sentiment\n",
    "    unNorm_x = unNorm_vectorizer.fit_transform(dataframe.txt)    #transforming data in the dataframe to features from text\n",
    "\n",
    "    # Training testing split\n",
    "    # Using a random state to guarantee the same results whenever training is done\n",
    "    unNorm_x_training, unNorm_x_testing, unNorm_y_training, unNorm_y_testing = train_test_split(unNorm_x, unNorm_y, random_state=29, train_size = 0.95, test_size = 0.05)\n",
    "\n",
    "    # Training the unnormalized Naive Bayes Classifier\n",
    "    unNorm_lrClassifier = LogisticRegression()\n",
    "    unNorm_lrClassifier.fit(unNorm_x_training, unNorm_y_training)\n",
    "    \n",
    "    return unNorm_lrClassifier, unNorm_vectorizer"
   ]
  },
  {
   "cell_type": "code",
   "execution_count": 430,
   "metadata": {},
   "outputs": [],
   "source": [
    "def testNormLR(testfile):\n",
    "    df = pd.read_csv(testfile,sep='\\t', names = ['txt', 'label'],index_col=None, header=-1)\n",
    "    \n",
    "    norm_lrClassifier, norm_vectorizer = trainNormLR()\n",
    "    \n",
    "    y = list(df.label)    #setting dependent variables, the labels 0 for negative and 1 for positive sentiment\n",
    "    x = df.txt    #setting the independent variables of features from text\n",
    "    \n",
    "    predict_list = []\n",
    "    \n",
    "    for i in range(len(x)):\n",
    "        sentiment = np.array([str(x[i])])\n",
    "        sentiment_tranform = norm_vectorizer.transform(sentiment)\n",
    "        prediction = norm_lrClassifier.predict(sentiment_tranform)\n",
    "        \n",
    "        predict_list.append(prediction[0])\n",
    "    \n",
    "    precision, recall, accuracy, f1measure = contingencyTable(predict_list,y)\n",
    "    \n",
    "    print(\"system: \"+str(predict_list),\"\\t\",\"gold: \" + str(y))\n",
    "    print(precision, recall, accuracy, f1measure)"
   ]
  },
  {
   "cell_type": "code",
   "execution_count": 431,
   "metadata": {},
   "outputs": [],
   "source": [
    "def testUnNormLR(testfile):\n",
    "    df = pd.read_csv(testfile,sep='\\t', names = ['txt', 'label'],index_col=None, header=-1)\n",
    "    \n",
    "    unNorm_lrClassifier, unNorm_vectorizer = trainUnNormLR()\n",
    "    \n",
    "    y = list(df.label)    #setting dependent variables, the labels 0 for negative and 1 for positive sentiment\n",
    "    x = df.txt    #setting the independent variables of features from text\n",
    "    \n",
    "    predict_list = []\n",
    "    \n",
    "    for i in range(len(x)):\n",
    "        sentiment = np.array([str(x[i])])\n",
    "        sentiment_tranform = unNorm_vectorizer.transform(sentiment)\n",
    "        prediction = unNorm_lrClassifier.predict(sentiment_tranform)\n",
    "        \n",
    "        predict_list.append(prediction[0])\n",
    "    \n",
    "    precision, recall, accuracy, f1measure = contingencyTable(predict_list,y)\n",
    "    \n",
    "    print(\"system: \"+str(predict_list),\"\\t\",\"gold: \" + str(y))\n",
    "    print(precision, recall, accuracy, f1measure)"
   ]
  },
  {
   "cell_type": "code",
   "execution_count": 432,
   "metadata": {},
   "outputs": [
    {
     "name": "stdout",
     "output_type": "stream",
     "text": [
      "system: [1, 1, 0, 0, 0, 0, 0, 0, 1] \t gold: [1, 0, 0, 0, 0, 0, 0, 0, 1]\n",
      "0.67 1.0 0.89 0.8\n"
     ]
    }
   ],
   "source": [
    "testNormLR(\"tester.txt\")"
   ]
  },
  {
   "cell_type": "code",
   "execution_count": 433,
   "metadata": {},
   "outputs": [
    {
     "name": "stdout",
     "output_type": "stream",
     "text": [
      "system: [1, 0, 0, 0, 0, 0, 0, 0, 1] \t gold: [1, 0, 0, 0, 0, 0, 0, 0, 1]\n",
      "1.0 1.0 1.0 1.0\n"
     ]
    }
   ],
   "source": [
    "testNormNB(\"tester.txt\")"
   ]
  },
  {
   "cell_type": "code",
   "execution_count": 434,
   "metadata": {},
   "outputs": [
    {
     "name": "stdout",
     "output_type": "stream",
     "text": [
      "system: [1, 0, 0, 1, 0, 0, 0, 0, 1] \t gold: [1, 0, 0, 0, 0, 0, 0, 0, 1]\n",
      "0.67 1.0 0.89 0.8\n"
     ]
    }
   ],
   "source": [
    "testUnNormNB(\"tester.txt\")"
   ]
  },
  {
   "cell_type": "code",
   "execution_count": 435,
   "metadata": {},
   "outputs": [
    {
     "name": "stdout",
     "output_type": "stream",
     "text": [
      "system: [0, 0, 0, 1, 0, 0, 0, 0, 1] \t gold: [1, 0, 0, 0, 0, 0, 0, 0, 1]\n",
      "0.5 0.5 0.78 0.5\n"
     ]
    }
   ],
   "source": [
    "testUnNormLR(\"tester.txt\")"
   ]
  }
 ],
 "metadata": {
  "kernelspec": {
   "display_name": "Python 3",
   "language": "python",
   "name": "python3"
  },
  "language_info": {
   "codemirror_mode": {
    "name": "ipython",
    "version": 3
   },
   "file_extension": ".py",
   "mimetype": "text/x-python",
   "name": "python",
   "nbconvert_exporter": "python",
   "pygments_lexer": "ipython3",
   "version": "3.7.0"
  }
 },
 "nbformat": 4,
 "nbformat_minor": 2
}
