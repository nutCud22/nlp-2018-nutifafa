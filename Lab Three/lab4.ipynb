{
 "cells": [
  {
   "cell_type": "code",
   "execution_count": 61,
   "metadata": {},
   "outputs": [],
   "source": [
    "import pandas as pd\n",
    "import nltk\n",
    "import glob\n",
    "import os\n",
    "from nltk.corpus import stopwords\n",
    "from sklearn.feature_extraction.text import TfidfVectorizer\n",
    "from sklearn.model_selection import train_test_split\n",
    "from sklearn import naive_bayes\n",
    "from sklearn.metrics import roc_auc_score"
   ]
  },
  {
   "cell_type": "code",
   "execution_count": 62,
   "metadata": {},
   "outputs": [],
   "source": [
    "#reading all the files for training using pandas and concatenating data from all the training files\n",
    "all_files = [\"imdb_labelled.txt\",\"amazon_cells_labelled.txt\",\"yelp_labelled.txt\"]\n",
    "dataframe = pd.concat(pd.read_csv(file, sep='\\t', names = ['txt', 'label'],index_col=None, header=0) for file in all_files)"
   ]
  },
  {
   "cell_type": "code",
   "execution_count": 63,
   "metadata": {},
   "outputs": [
    {
     "data": {
      "text/plain": [
       "MultinomialNB(alpha=1.0, class_prior=None, fit_prior=True)"
      ]
     },
     "execution_count": 63,
     "metadata": {},
     "output_type": "execute_result"
    }
   ],
   "source": [
    "# Creating a normalized version of Naive Bayes Classifier\n",
    "# Normalisation of text is done here\n",
    "stop_set = set(stopwords.words('english'))\n",
    "vectorizer = TfidfVectorizer(use_idf=True, lowercase=True, strip_accents='ascii', stop_words=stop_set)\n",
    "\n",
    "y = dataframe.label    #setting dependent variables, the labels 0 for negative and 1 for positive sentiment\n",
    "x = vectorizer.fit_transform(dataframe.txt)    #transforming data in the dataframe to features from text\n",
    "\n",
    "# Training testing split\n",
    "# Using a random state to guarantee the same results whenever training is done\n",
    "x_training, x_testing, y_training, y_testing = train_test_split(x, y, random_state=23)\n",
    "\n",
    "# Training the normalized Naive Bayes Classifier\n",
    "norm_nbClassifier = naive_bayes.MultinomialNB()\n",
    "norm_nbClassifier.fit(x_training, y_training)"
   ]
  },
  {
   "cell_type": "code",
   "execution_count": 64,
   "metadata": {},
   "outputs": [
    {
     "data": {
      "text/plain": [
       "0.8901946818613484"
      ]
     },
     "execution_count": 64,
     "metadata": {},
     "output_type": "execute_result"
    }
   ],
   "source": [
    "# Checking the accuracy of the normalized Naive Bayes classifier\n",
    "roc_auc_score(y_testing, norm_nbClassifier.predict_proba(x_testing)[:,1])"
   ]
  },
  {
   "cell_type": "code",
   "execution_count": 71,
   "metadata": {},
   "outputs": [
    {
     "data": {
      "text/plain": [
       "MultinomialNB(alpha=1.0, class_prior=None, fit_prior=True)"
      ]
     },
     "execution_count": 71,
     "metadata": {},
     "output_type": "execute_result"
    }
   ],
   "source": [
    "# Using TFIDF, short for term frequency–inverse document frequency\n",
    "# This transforms text to feature vectors\n",
    "\n",
    "# Creating an unnormalized version of Naive Bayes Classifier\n",
    "unNorm_vectorizer = TfidfVectorizer(use_idf=False, lowercase=False, strip_accents=None)\n",
    "\n",
    "unNorm_y = dataframe.label    #setting dependent variables, the labels 0 for negative and 1 for positive sentiment\n",
    "unNorm_x = unNorm_vectorizer.fit_transform(dataframe.txt)    #transforming data in the dataframe to features from text\n",
    "\n",
    "# Training testing split\n",
    "# Using a random state to guarantee the same results whenever training is done\n",
    "unNorm_x_training, unNorm_x_testing, unNorm_y_training, unNorm_y_testing = train_test_split(unNorm_x, unNorm_y, random_state=23)\n",
    "\n",
    "# Training the unnormalized Naive Bayes Classifier\n",
    "unNorm_nbClassifier = naive_bayes.MultinomialNB()\n",
    "unNorm_nbClassifier.fit(unNorm_x_training, unNorm_y_training)\n"
   ]
  },
  {
   "cell_type": "code",
   "execution_count": 72,
   "metadata": {},
   "outputs": [
    {
     "data": {
      "text/plain": [
       "0.8850435829602497"
      ]
     },
     "execution_count": 72,
     "metadata": {},
     "output_type": "execute_result"
    }
   ],
   "source": [
    "# Checking the accuracy of the unnormalized Naive Bayes classifier\n",
    "roc_auc_score(unNorm_y_testing, unNorm_nbClassifier.predict_proba(unNorm_x_testing)[:,1])"
   ]
  },
  {
   "cell_type": "code",
   "execution_count": null,
   "metadata": {},
   "outputs": [],
   "source": [
    "def testNormNB(testfile):\n",
    "    "
   ]
  }
 ],
 "metadata": {
  "kernelspec": {
   "display_name": "Python 3",
   "language": "python",
   "name": "python3"
  },
  "language_info": {
   "codemirror_mode": {
    "name": "ipython",
    "version": 3
   },
   "file_extension": ".py",
   "mimetype": "text/x-python",
   "name": "python",
   "nbconvert_exporter": "python",
   "pygments_lexer": "ipython3",
   "version": "3.7.0"
  }
 },
 "nbformat": 4,
 "nbformat_minor": 2
}
