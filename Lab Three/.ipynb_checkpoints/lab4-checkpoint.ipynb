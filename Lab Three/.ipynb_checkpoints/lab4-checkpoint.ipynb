{
 "cells": [
  {
   "cell_type": "code",
   "execution_count": 186,
   "metadata": {},
   "outputs": [],
   "source": [
    "import pandas as pd\n",
    "import nltk\n",
    "import glob\n",
    "import os\n",
    "import numpy as np\n",
    "from nltk.corpus import stopwords\n",
    "from sklearn.feature_extraction.text import TfidfVectorizer\n",
    "from sklearn.model_selection import train_test_split\n",
    "from sklearn import naive_bayes\n",
    "from sklearn.metrics import roc_auc_score"
   ]
  },
  {
   "cell_type": "code",
   "execution_count": 187,
   "metadata": {},
   "outputs": [],
   "source": [
    "#reading all the files for training using pandas and concatenating data from all the training files\n",
    "all_files = [\"imdb_labelled.txt\",\"amazon_cells_labelled.txt\",\"yelp_labelled.txt\"]\n",
    "dataframe = pd.concat(pd.read_csv(file, sep='\\t', names = ['txt', 'label'],index_col=None, header=0) for file in all_files)"
   ]
  },
  {
   "cell_type": "code",
   "execution_count": 188,
   "metadata": {},
   "outputs": [],
   "source": [
    "def trainNormNB():\n",
    "    \n",
    "    # Using TFIDF, short for term frequency–inverse document frequency\n",
    "    # This transforms text to feature vectors\n",
    "    \n",
    "    # Creating a normalized version of Naive Bayes Classifier\n",
    "    # Normalisation of text is done here\n",
    "    stop_set = set(stopwords.words('english'))\n",
    "    norm_vectorizer = TfidfVectorizer(use_idf=True, lowercase=True, strip_accents='ascii', stop_words=stop_set)\n",
    "\n",
    "    y = dataframe.label    #setting dependent variables, the labels 0 for negative and 1 for positive sentiment\n",
    "    x = norm_vectorizer.fit_transform(dataframe.txt)    #transforming data in the dataframe to features from text\n",
    "\n",
    "    # Training testing split\n",
    "    # Using a random state to guarantee the same results whenever training is done\n",
    "    x_training, x_testing, y_training, y_testing = train_test_split(x, y, random_state=29)\n",
    "\n",
    "    # Training the normalized Naive Bayes Classifier\n",
    "    norm_nbClassifier = naive_bayes.MultinomialNB()\n",
    "    norm_nbClassifier.fit(x_training, y_training)\n",
    "    \n",
    "    return norm_nbClassifier, norm_vectorizer"
   ]
  },
  {
   "cell_type": "code",
   "execution_count": 189,
   "metadata": {},
   "outputs": [],
   "source": [
    "def trainUnNormNB():\n",
    "    # Using TFIDF, short for term frequency–inverse document frequency\n",
    "    # This transforms text to feature vectors\n",
    "\n",
    "    # Creating an unnormalized version of Naive Bayes Classifier\n",
    "    unNorm_vectorizer = TfidfVectorizer(use_idf=False, lowercase=False, strip_accents=None)\n",
    "\n",
    "    unNorm_y = dataframe.label    #setting dependent variables, the labels 0 for negative and 1 for positive sentiment\n",
    "    unNorm_x = unNorm_vectorizer.fit_transform(dataframe.txt)    #transforming data in the dataframe to features from text\n",
    "\n",
    "    # Training testing split\n",
    "    # Using a random state to guarantee the same results whenever training is done\n",
    "    unNorm_x_training, unNorm_x_testing, unNorm_y_training, unNorm_y_testing = train_test_split(unNorm_x, unNorm_y, random_state=29)\n",
    "\n",
    "    # Training the unnormalized Naive Bayes Classifier\n",
    "    unNorm_nbClassifier = naive_bayes.MultinomialNB()\n",
    "    unNorm_nbClassifier.fit(unNorm_x_training, unNorm_y_training)\n",
    "    \n",
    "    return unNorm_nbClassifier, unNorm_nbClassifier\n"
   ]
  },
  {
   "cell_type": "code",
   "execution_count": 200,
   "metadata": {},
   "outputs": [],
   "source": [
    "def testNormNB(testfile):\n",
    "    df = pd.read_csv(testfile,sep='\\t', names = ['txt', 'label'],index_col=None, header=-1)\n",
    "    \n",
    "    norm_nbClassifier, norm_vectorizer = trainNormNB()\n",
    "    \n",
    "    y = df.label    #setting dependent variables, the labels 0 for negative and 1 for positive sentiment\n",
    "    x = df.txt    #setting the independent variables of features from text\n",
    "    \n",
    "    predict_list = []\n",
    "    \n",
    "    for i in range(len(x)):\n",
    "        sentiment = np.array([str(x[i])])\n",
    "        sentiment_tranform = norm_vectorizer.transform(sentiment)\n",
    "        prediction = norm_nbClassifier.predict(sentiment_tranform)\n",
    "        \n",
    "        predict_list.append(prediction[0])\n",
    "    \n",
    "    print(predict_list)\n",
    "        \n",
    "#     print(x)"
   ]
  },
  {
   "cell_type": "code",
   "execution_count": 201,
   "metadata": {},
   "outputs": [
    {
     "name": "stdout",
     "output_type": "stream",
     "text": [
      "[1, 0, 0, 0, 0, 0, 0, 0, 1]\n"
     ]
    }
   ],
   "source": [
    "testNormNB(\"tester.txt\")"
   ]
  },
  {
   "cell_type": "code",
   "execution_count": 203,
   "metadata": {},
   "outputs": [],
   "source": [
    "def testUnNormNB(testfile):\n",
    "    df = pd.read_csv(testfile,sep='\\t', names = ['txt', 'label'],index_col=None, header=-1)\n",
    "    \n",
    "    unNorm_nbClassifier, unNorm_vectorizer = trainUnNormNB()\n",
    "    \n",
    "    y = df.label    #setting dependent variables, the labels 0 for negative and 1 for positive sentiment\n",
    "    x = df.txt    #setting the independent variables of features from text\n",
    "    \n",
    "    predict_list = []\n",
    "    \n",
    "    for i in range(len(x)):\n",
    "        sentiment = np.array([str(x[i])])\n",
    "        sentiment_tranform = unNorm_vectorizer.transform(sentiment)\n",
    "        prediction = unNorm_nbClassifier.predict(sentiment_tranform)\n",
    "        \n",
    "        predict_list.append(prediction[0])\n",
    "    \n",
    "    print(predict_list)"
   ]
  },
  {
   "cell_type": "code",
   "execution_count": 204,
   "metadata": {},
   "outputs": [
    {
     "ename": "NameError",
     "evalue": "name 'trainUnNormNB' is not defined",
     "output_type": "error",
     "traceback": [
      "\u001b[1;31m---------------------------------------------------------------------------\u001b[0m",
      "\u001b[1;31mNameError\u001b[0m                                 Traceback (most recent call last)",
      "\u001b[1;32m<ipython-input-204-b974c13c6a0f>\u001b[0m in \u001b[0;36m<module>\u001b[1;34m()\u001b[0m\n\u001b[1;32m----> 1\u001b[1;33m \u001b[0mtestUnNormNB\u001b[0m\u001b[1;33m(\u001b[0m\u001b[1;34m\"tester.txt\"\u001b[0m\u001b[1;33m)\u001b[0m\u001b[1;33m\u001b[0m\u001b[0m\n\u001b[0m",
      "\u001b[1;32m<ipython-input-203-e8e7b1ebb700>\u001b[0m in \u001b[0;36mtestUnNormNB\u001b[1;34m(testfile)\u001b[0m\n\u001b[0;32m      2\u001b[0m     \u001b[0mdf\u001b[0m \u001b[1;33m=\u001b[0m \u001b[0mpd\u001b[0m\u001b[1;33m.\u001b[0m\u001b[0mread_csv\u001b[0m\u001b[1;33m(\u001b[0m\u001b[0mtestfile\u001b[0m\u001b[1;33m,\u001b[0m\u001b[0msep\u001b[0m\u001b[1;33m=\u001b[0m\u001b[1;34m'\\t'\u001b[0m\u001b[1;33m,\u001b[0m \u001b[0mnames\u001b[0m \u001b[1;33m=\u001b[0m \u001b[1;33m[\u001b[0m\u001b[1;34m'txt'\u001b[0m\u001b[1;33m,\u001b[0m \u001b[1;34m'label'\u001b[0m\u001b[1;33m]\u001b[0m\u001b[1;33m,\u001b[0m\u001b[0mindex_col\u001b[0m\u001b[1;33m=\u001b[0m\u001b[1;32mNone\u001b[0m\u001b[1;33m,\u001b[0m \u001b[0mheader\u001b[0m\u001b[1;33m=\u001b[0m\u001b[1;33m-\u001b[0m\u001b[1;36m1\u001b[0m\u001b[1;33m)\u001b[0m\u001b[1;33m\u001b[0m\u001b[0m\n\u001b[0;32m      3\u001b[0m \u001b[1;33m\u001b[0m\u001b[0m\n\u001b[1;32m----> 4\u001b[1;33m     \u001b[0munNorm_nbClassifier\u001b[0m\u001b[1;33m,\u001b[0m \u001b[0munNorm_vectorizer\u001b[0m \u001b[1;33m=\u001b[0m \u001b[0mtrainUnNormNB\u001b[0m\u001b[1;33m(\u001b[0m\u001b[1;33m)\u001b[0m\u001b[1;33m\u001b[0m\u001b[0m\n\u001b[0m\u001b[0;32m      5\u001b[0m \u001b[1;33m\u001b[0m\u001b[0m\n\u001b[0;32m      6\u001b[0m     \u001b[0my\u001b[0m \u001b[1;33m=\u001b[0m \u001b[0mdf\u001b[0m\u001b[1;33m.\u001b[0m\u001b[0mlabel\u001b[0m    \u001b[1;31m#setting dependent variables, the labels 0 for negative and 1 for positive sentiment\u001b[0m\u001b[1;33m\u001b[0m\u001b[0m\n",
      "\u001b[1;31mNameError\u001b[0m: name 'trainUnNormNB' is not defined"
     ]
    }
   ],
   "source": [
    "testUnNormNB(\"tester.txt\")"
   ]
  },
  {
   "cell_type": "code",
   "execution_count": null,
   "metadata": {},
   "outputs": [],
   "source": []
  }
 ],
 "metadata": {
  "kernelspec": {
   "display_name": "Python 3",
   "language": "python",
   "name": "python3"
  },
  "language_info": {
   "codemirror_mode": {
    "name": "ipython",
    "version": 3
   },
   "file_extension": ".py",
   "mimetype": "text/x-python",
   "name": "python",
   "nbconvert_exporter": "python",
   "pygments_lexer": "ipython3",
   "version": "3.7.0"
  }
 },
 "nbformat": 4,
 "nbformat_minor": 2
}
