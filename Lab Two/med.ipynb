{
 "cells": [
  {
   "cell_type": "code",
   "execution_count": 80,
   "metadata": {
    "scrolled": true
   },
   "outputs": [
    {
     "name": "stdout",
     "output_type": "stream",
     "text": [
      "Minimum edit distance between -f and C:\\Users\\user\\AppData\\Roaming\\jupyter\\runtime\\kernel-eb620378-d756-43ce-b5bf-20d8194b5817.json is 92\n"
     ]
    }
   ],
   "source": [
    "import sys\n",
    "\n",
    "def min_edit_distance(source, target):\n",
    "    n = len(source)\n",
    "    m = len(target)\n",
    "    \n",
    "    distance = [[None for _ in range(m+1)] for _ in range(n+1)]\n",
    "    distance[0][0] = 0\n",
    "    \n",
    "    for i in range(1, n+1):\n",
    "        distance[i][0] = distance[i-1][0] + 1\n",
    "    for j in range(1, m+1):\n",
    "        distance[0][j] = distance[0][j-1] + 1\n",
    "        \n",
    "    for i in range(1, n+1):\n",
    "        substitution_value = 2\n",
    "        for j in range(1, m+1):\n",
    "            if source[i-1] == target[j-1]:\n",
    "                substitution_value = 0\n",
    "            distance[i][j] = min(distance[i-1][j] + 1, distance[i-1][j-1] + substitution_value, distance[i][j-1] + 1)\n",
    "            \n",
    "    print(\"Minimum edit distance between \" + source + \" and \" + target + \" is \" + str(distance[n][m]))\n",
    "    \n",
    "if __name__ == '__main__':\n",
    "    source = sys.argv[1]\n",
    "    target = sys.argv[2]\n",
    "    min_edit_distance(source, target)"
   ]
  },
  {
   "cell_type": "code",
   "execution_count": null,
   "metadata": {},
   "outputs": [],
   "source": []
  }
 ],
 "metadata": {
  "kernelspec": {
   "display_name": "Python 3",
   "language": "python",
   "name": "python3"
  },
  "language_info": {
   "codemirror_mode": {
    "name": "ipython",
    "version": 3
   },
   "file_extension": ".py",
   "mimetype": "text/x-python",
   "name": "python",
   "nbconvert_exporter": "python",
   "pygments_lexer": "ipython3",
   "version": "3.6.4"
  }
 },
 "nbformat": 4,
 "nbformat_minor": 2
}
