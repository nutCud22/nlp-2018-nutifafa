{
 "cells": [
  {
   "cell_type": "code",
   "execution_count": 75,
   "metadata": {
    "scrolled": true
   },
   "outputs": [],
   "source": [
    "import sys\n",
    "def min_edit_distance(source, target):\n",
    "    \n",
    "    n = len(source)\n",
    "    m = len(target)\n",
    "    \n",
    "    distance = [[None for _ in range(m+1)] for _ in range(n+1)]\n",
    "    \n",
    "    distance[0][0] = 0\n",
    "    \n",
    "    for i in range(1, n+1):\n",
    "        distance[i][0] = distance[i-1][0] + 1\n",
    "    for j in range(1, m+1):\n",
    "        distance[0][j] = distance[0][j-1] + 1\n",
    "        \n",
    "    for i in range(1, n+1):\n",
    "        substitution_value = 2\n",
    "        for j in range(1, m+1):\n",
    "            if source[i-1]== target[j-1]:\n",
    "                substitution_value = 0\n",
    "            distance[i][j] = min(distance[i-1][j] + 1, distance[i-1][j-1] + substitution_value, distance[i][j-1] + 1)\n",
    "\n",
    "    print(\"Minimum edit distance between \" + source + \" and \" + target + \" is \" + str(distance[n][m]))\n",
    "\n",
    "if __name__ == '__main__':\n",
    "    source = sys.argv[1]\n",
    "    target = sys.argv[2]\n",
    "    min_edit_distance(source, target)\n",
    "    "
   ]
  },
  {
   "cell_type": "code",
   "execution_count": null,
   "metadata": {},
   "outputs": [],
   "source": []
  },
  {
   "cell_type": "code",
   "execution_count": 77,
   "metadata": {},
   "outputs": [
    {
     "ename": "SyntaxError",
     "evalue": "invalid syntax (<ipython-input-77-f543582e2f30>, line 1)",
     "output_type": "error",
     "traceback": [
      "\u001b[1;36m  File \u001b[1;32m\"<ipython-input-77-f543582e2f30>\"\u001b[1;36m, line \u001b[1;32m1\u001b[0m\n\u001b[1;33m    med.py \"dog\" \"cat\"\u001b[0m\n\u001b[1;37m               ^\u001b[0m\n\u001b[1;31mSyntaxError\u001b[0m\u001b[1;31m:\u001b[0m invalid syntax\n"
     ]
    }
   ],
   "source": [
    "med.py dog cat"
   ]
  },
  {
   "cell_type": "code",
   "execution_count": null,
   "metadata": {},
   "outputs": [],
   "source": []
  }
 ],
 "metadata": {
  "kernelspec": {
   "display_name": "Python 3",
   "language": "python",
   "name": "python3"
  },
  "language_info": {
   "codemirror_mode": {
    "name": "ipython",
    "version": 3
   },
   "file_extension": ".py",
   "mimetype": "text/x-python",
   "name": "python",
   "nbconvert_exporter": "python",
   "pygments_lexer": "ipython3",
   "version": "3.6.4"
  }
 },
 "nbformat": 4,
 "nbformat_minor": 2
}
